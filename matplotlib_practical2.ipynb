{
 "cells": [
  {
   "cell_type": "markdown",
   "metadata": {},
   "source": [
    "# matplotlib  histogram"
   ]
  },
  {
   "cell_type": "code",
   "execution_count": 1,
   "metadata": {},
   "outputs": [],
   "source": [
    "import numpy as np\n",
    "import random\n",
    "import matplotlib.pyplot as plt"
   ]
  },
  {
   "cell_type": "code",
   "execution_count": 2,
   "metadata": {},
   "outputs": [
    {
     "name": "stdout",
     "output_type": "stream",
     "text": [
      "[15 50 55 27 27 25 24 34 28 26 49 22 28 33 29 42 44 24 49 32 45 26 48 23\n",
      " 31 45 21 32 36 40 18 53 15 18 17 29 38 52 40 17 53 15 53 36 17 27 24 28\n",
      " 21 55]\n",
      "[51 25 47 49 39 28 23 36 24 52 48 21 22 28 30 51 44 36 49 26 44 37 44 50\n",
      " 54 48 34 46 31 24 34 32 47 54 43 53 31 42 41 52 28 22 20 24 24 26 30 25\n",
      " 43 37 24 20 52 29 29 24 22 41 21 26]\n"
     ]
    }
   ],
   "source": [
    "ml_studentage = np.random.randint(14,56,(50))\n",
    "python_studentage = np.random.randint(20,56,(60))\n",
    "print(ml_studentage)\n",
    "print(python_studentage)"
   ]
  },
  {
   "cell_type": "code",
   "execution_count": 5,
   "metadata": {},
   "outputs": [
    {
     "data": {
      "image/png": "[encoded data removed]",
      "text/plain": [
       "<Figure size 432x288 with 1 Axes>"
      ]
     },
     "metadata": {
      "needs_background": "light"
     },
     "output_type": "display_data"
    }
   ],
   "source": [
    "plt.hist(ml_studentage,rwidth = 0.8)\n",
    "plt.title('student age and student no')\n",
    "plt.xlabel('student age')\n",
    "plt.ylabel('no. of students')\n",
    "plt.show()"
   ]
  },
  {
   "cell_type": "code",
   "execution_count": null,
   "metadata": {},
   "outputs": [],
   "source": []
  }
 ],
 "metadata": {
  "kernelspec": {
   "display_name": "Python 3",
   "language": "python",
   "name": "python3"
  },
  "language_info": {
   "codemirror_mode": {
    "name": "ipython",
    "version": 3
   },
   "file_extension": ".py",
   "mimetype": "text/x-python",
   "name": "python",
   "nbconvert_exporter": "python",
   "pygments_lexer": "ipython3",
   "version": "3.8.5"
  }
 },
 "nbformat": 4,
 "nbformat_minor": 4
}
